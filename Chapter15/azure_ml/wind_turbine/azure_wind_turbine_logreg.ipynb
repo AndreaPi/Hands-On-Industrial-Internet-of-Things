{
 "cells": [
  {
   "cell_type": "markdown",
   "metadata": {},
   "source": [
    "# Training a logistic regression with simulated data of a wind-turbine\n"
   ]
  },
  {
   "cell_type": "code",
   "execution_count": 19,
   "metadata": {},
   "outputs": [],
   "source": [
    "from sklearn.linear_model import LogisticRegression\n",
    "from sklearn import metrics\n",
    "import random\n",
    "\n"
   ]
  },
  {
   "cell_type": "code",
   "execution_count": 20,
   "metadata": {},
   "outputs": [],
   "source": [
    "def wind_turbine_model(x):\n",
    "\n",
    "    # cut-in pseed vs cut-out speed\n",
    "    if x<4.5 or x>21.5:\n",
    "        return 0.0\n",
    "\n",
    "    # standard operability\n",
    "    return 376.936 - 195.8161*x + 33.75734*x**2 - 2.212492*x**3 + 0.06309095*x**4 - 0.0006533647*x**5"
   ]
  },
  {
   "cell_type": "markdown",
   "metadata": {},
   "source": [
    "## Generating simulated data"
   ]
  },
  {
   "cell_type": "code",
   "execution_count": 21,
   "metadata": {},
   "outputs": [
    {
     "data": {
      "text/plain": [
       "[<matplotlib.lines.Line2D at 0x11ebfa400>]"
      ]
     },
     "execution_count": 21,
     "metadata": {},
     "output_type": "execute_result"
    },
    {
     "data": {
      "image/png": "[encoded data removed]",
      "text/plain": [
       "<Figure size 432x288 with 1 Axes>"
      ]
     },
     "metadata": {
      "needs_background": "light"
     },
     "output_type": "display_data"
    }
   ],
   "source": [
    "X_train=[]\n",
    "y_train=[]\n",
    "\n",
    "\n",
    "X_train.extend( [[x ,wind_turbine_model(x)] for x in range(0,30)] )\n",
    "y_train.extend( [1 for x in range(0,30)] )\n",
    "\n",
    "\n",
    "for x in range(15,30):\n",
    "    X_train.extend([[x, 50 + x*random.random()]])\n",
    "    y_train.extend([0])\n",
    "\n",
    "import matplotlib.pyplot as plt\n",
    "plt.plot([x[0] for x in X_train],[x[1] for x in X_train],'.k')"
   ]
  },
  {
   "cell_type": "code",
   "execution_count": 4,
   "metadata": {},
   "outputs": [
    {
     "name": "stdout",
     "output_type": "stream",
     "text": [
      "[[0, 0.0], [1, 0.0], [2, 0.0], [3, 0.0], [4, 0.0], [5, 2.6175790624998556], [6, 16.090675292799844], [7, 41.94847443709993], [8, 75.0921327103998], [9, 111.38816277969987], [10, 147.59002999999967], [11, 181.2597486502996], [12, 210.68947816959945], [13, 234.8231193929003], [14, 253.17791078719978], [15, 265.7660246874989], [16, 273.0161635327993], [17, 275.6951561020994], [18, 274.82955375039955], [19, 271.6272266446979], [20, 267.3989599999991], [21, 263.48005031529874], [22, 0.0], [23, 0.0], [24, 0.0], [25, 0.0], [26, 0.0], [27, 0.0], [28, 0.0], [29, 0.0], [15, 54.014612200956535], [16, 58.450935861402776], [17, 58.671366084803005], [18, 53.841196477191815], [19, 54.50794086257714], [20, 52.971010233116395], [21, 56.14662221707792], [22, 59.7389265748589], [23, 53.2531739501503], [24, 57.440450342382476], [25, 53.657537464394785], [26, 56.376831083751846], [27, 67.18676812156161], [28, 59.56875816930078], [29, 62.32376498288529]]\n",
      "[1, 1, 1, 1, 1, 1, 1, 1, 1, 1, 1, 1, 1, 1, 1, 1, 1, 1, 1, 1, 1, 1, 1, 1, 1, 1, 1, 1, 1, 1, 0, 0, 0, 0, 0, 0, 0, 0, 0, 0, 0, 0, 0, 0, 0]\n"
     ]
    }
   ],
   "source": [
    "print(X_train)\n",
    "print(y_train)"
   ]
  },
  {
   "cell_type": "markdown",
   "metadata": {},
   "source": [
    "## Train the model"
   ]
  },
  {
   "cell_type": "code",
   "execution_count": 5,
   "metadata": {},
   "outputs": [
    {
     "data": {
      "text/plain": [
       "LogisticRegression(C=1.0, class_weight=None, dual=False, fit_intercept=True,\n",
       "          intercept_scaling=1, max_iter=100, multi_class='multinomial',\n",
       "          n_jobs=None, penalty='l2', random_state=0, solver='lbfgs',\n",
       "          tol=0.0001, verbose=0, warm_start=False)"
      ]
     },
     "execution_count": 5,
     "metadata": {},
     "output_type": "execute_result"
    }
   ],
   "source": [
    "logreg = LogisticRegression(random_state=0, solver='lbfgs',\n",
    "...                          multi_class='multinomial')\n",
    "logreg.fit(X_train, y_train)"
   ]
  },
  {
   "cell_type": "code",
   "execution_count": 6,
   "metadata": {},
   "outputs": [],
   "source": [
    "test=logreg.predict([[16,wind_turbine_model(16)],[1,wind_turbine_model(1)],[25,wind_turbine_model(25)],[25,50],[18,250]])"
   ]
  },
  {
   "cell_type": "code",
   "execution_count": 7,
   "metadata": {},
   "outputs": [
    {
     "name": "stdout",
     "output_type": "stream",
     "text": [
      "[1 1 0 0 1]\n",
      "Accuracy is 0.8\n"
     ]
    }
   ],
   "source": [
    "print(test)\n",
    "\n",
    "import numpy as np\n",
    "# calculate accuracy on the prediction\n",
    "acc = np.average(test == [1,1,1,0,1])\n",
    "print('Accuracy is', acc)"
   ]
  },
  {
   "cell_type": "markdown",
   "metadata": {},
   "source": [
    "## Deploy on the azure cloud\n",
    "change the subscription_id with your Azure subscription id (see https://ms.portal.azure.com/#blade/Microsoft_Azure_Billing/SubscriptionsBlade)"
   ]
  },
  {
   "cell_type": "code",
   "execution_count": 8,
   "metadata": {},
   "outputs": [],
   "source": [
    "subscription_id='<the subscription>'"
   ]
  },
  {
   "cell_type": "code",
   "execution_count": 9,
   "metadata": {},
   "outputs": [
    {
     "name": "stderr",
     "output_type": "stream",
     "text": [
      "/Users/giacomoveneri/Documents/workspace-iiot/exp/python-azure/env/lib/python3.6/site-packages/requests/__init__.py:91: RequestsDependencyWarning: urllib3 (1.24) or chardet (3.0.4) doesn't match a supported version!\n",
      "  RequestsDependencyWarning)\n"
     ]
    },
    {
     "name": "stdout",
     "output_type": "stream",
     "text": [
      "0.1.68\n",
      "Wrote the config file config.json to: /Users/giacomoveneri/Documents/workspace-iiot/exp/python-azure/aml_config/config.json\n"
     ]
    }
   ],
   "source": [
    "import azureml.core\n",
    "print(azureml.core.VERSION)\n",
    "\n",
    "from azureml.core import Workspace\n",
    "\n",
    "# create\n",
    "ws = Workspace.create(name='iiot-book-ml-workspace02',\n",
    "                      subscription_id=subscription_id,\n",
    "                      resource_group='iiot-book-res',\n",
    "                      create_resource_group=True,\n",
    "                      location='westeurope' # or other supported Azure region\n",
    "                     )\n",
    "#ws = Workspace.from_config()\n",
    "\n",
    "# store information on the configuration file.\n",
    "ws.write_config()\n",
    "\n",
    "from azureml.core import Experiment\n",
    "\n",
    "# create a new experiment\n",
    "exp = Experiment(workspace=ws, name='wind-turbine-experiment')\n",
    "\n",
    "\n"
   ]
  },
  {
   "cell_type": "markdown",
   "metadata": {},
   "source": [
    "## Prepare the cluster"
   ]
  },
  {
   "cell_type": "code",
   "execution_count": 10,
   "metadata": {},
   "outputs": [
    {
     "name": "stdout",
     "output_type": "stream",
     "text": [
      "creating a new compute target...\n",
      "Creating\n",
      "succeeded\n",
      "BatchAI wait for completion finished\n",
      "Minimum number of nodes requested have been provisioned\n",
      "{'allocationState': 'steady', 'allocationStateTransitionTime': '2018-10-19T16:34:41.110000+00:00', 'creationTime': '2018-10-19T16:34:31.333000+00:00', 'currentNodeCount': 0, 'errors': None, 'nodeStateCounts': {'idleNodeCount': 0, 'leavingNodeCount': 0, 'preparingNodeCount': 0, 'runningNodeCount': 0, 'unusableNodeCount': 0}, 'provisioningState': 'succeeded', 'provisioningStateTransitionTime': '2018-10-19T16:34:40.614000+00:00', 'scaleSettings': {'manual': None, 'autoScale': {'maximumNodeCount': 2, 'minimumNodeCount': 0, 'initialNodeCount': 0}}, 'vmPriority': 'dedicated', 'vmSize': 'STANDARD_D2_V2'}\n"
     ]
    }
   ],
   "source": [
    "# compute target\n",
    "from azureml.core.compute import ComputeTarget, BatchAiCompute\n",
    "from azureml.core.compute_target import ComputeTargetException\n",
    "\n",
    "# choose a name for your cluster\n",
    "batchai_cluster_name = \"traincluster-w3\"\n",
    "\n",
    "try:\n",
    "    # look for the existing cluster by name\n",
    "    compute_target = ComputeTarget(workspace=ws, name=batchai_cluster_name)\n",
    "    if type(compute_target) is BatchAiCompute:\n",
    "        print('found compute target {}, just use it.'.format(batchai_cluster_name))\n",
    "    else:\n",
    "        print('{} exists but it is not a Batch AI cluster. Please choose a different name.'.format(batchai_cluster_name))\n",
    "except ComputeTargetException:\n",
    "    print('creating a new compute target...')\n",
    "    compute_config = BatchAiCompute.provisioning_configuration(vm_size=\"STANDARD_D2_V2\", # small CPU-based VM\n",
    "                                                                #vm_priority='lowpriority', # optional\n",
    "                                                                autoscale_enabled=True,\n",
    "                                                                cluster_min_nodes=0, \n",
    "                                                                cluster_max_nodes=2)\n",
    "\n",
    "    # create the cluster\n",
    "    compute_target = ComputeTarget.create(ws, batchai_cluster_name, compute_config)\n",
    "\n",
    "    # can poll for a minimum number of nodes and for a specific timeout. \n",
    "    # if no min node count is provided it uses the scale settings for the cluster\n",
    "    compute_target.wait_for_completion(show_output=True, min_node_count=None, timeout_in_minutes=20)\n",
    "\n",
    "    # Use the 'status' property to get a detailed status for the current cluster. \n",
    "    print(compute_target.status.serialize())"
   ]
  },
  {
   "cell_type": "markdown",
   "metadata": {},
   "source": [
    "## Build eth estimator"
   ]
  },
  {
   "cell_type": "code",
   "execution_count": 15,
   "metadata": {},
   "outputs": [
    {
     "name": "stdout",
     "output_type": "stream",
     "text": [
      "AzureFile iiotbookstoragekxngzrwr azureml-filestore-bb2927ff-69c9-4e27-8d8e-d5329f802f91\n"
     ]
    },
    {
     "data": {
      "text/html": [
       "<table style=\"width:100%\"><tr><th>Experiment</th><th>Id</th><th>Type</th><th>Status</th><th>Details Page</th><th>Docs Page</th></tr><tr><td>wind-turbine-experiment</td><td>wind-turbine-experiment_1539968489027</td><td>azureml.scriptrun</td><td>Running</td><td><a href=\"https://mlworkspace.azure.ai/portal/subscriptions/24012c3a-e859-46e3-a32b-51894d277f46/resourceGroups/iiot-book-res/providers/Microsoft.MachineLearningServices/workspaces/iiot-book-ml-workspace02/experiments/wind-turbine-experiment/runs/wind-turbine-experiment_1539968489027\" target=\"_blank\" rel=\"noopener\">Link to Azure Portal</a></td><td><a href=\"https://docs.microsoft.com/en-us/python/api/azureml-core/azureml.core.script_run.ScriptRun?view=azure-ml-py\" target=\"_blank\" rel=\"noopener\">Link to Documentation</a></td></tr></table>"
      ],
      "text/plain": [
       "Run(Experiment: wind-turbine-experiment,\n",
       "Id: wind-turbine-experiment_1539968489027,\n",
       "Type: azureml.scriptrun,\n",
       "Status: Running)"
      ]
     },
     "execution_count": 15,
     "metadata": {},
     "output_type": "execute_result"
    }
   ],
   "source": [
    "import os\n",
    "script_folder = './wind_turbine_logreg'\n",
    "os.makedirs(script_folder, exist_ok=True)\n",
    "\n",
    "from azureml.train.estimator import Estimator\n",
    "\n",
    "ds = ws.get_default_datastore()\n",
    "print(ds.datastore_type, ds.account_name, ds.container_name)\n",
    "\n",
    "ds.upload(src_dir='./data', target_path='data', overwrite=True, show_progress=True)\n",
    "\n",
    "script_params = {\n",
    "    '--data-folder': ds.as_mount(),\n",
    "    '--regularization': 0.8\n",
    "}\n",
    "\n",
    "est = Estimator(source_directory=script_folder,\n",
    "                script_params=script_params,\n",
    "                compute_target=compute_target,\n",
    "                entry_script='train.py',\n",
    "                conda_packages=['scikit-learn'])\n",
    "\n",
    "run = exp.submit(config=est)\n",
    "run"
   ]
  },
  {
   "cell_type": "markdown",
   "metadata": {},
   "source": [
    "# Clean ALL"
   ]
  },
  {
   "cell_type": "code",
   "execution_count": 17,
   "metadata": {},
   "outputs": [],
   "source": [
    "# optionally, delete the Azure Managed Compute cluster\n",
    "compute_target.delete()"
   ]
  },
  {
   "cell_type": "code",
   "execution_count": 18,
   "metadata": {},
   "outputs": [],
   "source": [
    "\n",
    "ws.delete(delete_dependent_resources=True)"
   ]
  }
 ],
 "metadata": {
  "kernelspec": {
   "display_name": "Python 3",
   "language": "python",
   "name": "python3"
  },
  "language_info": {
   "codemirror_mode": {
    "name": "ipython",
    "version": 3
   },
   "file_extension": ".py",
   "mimetype": "text/x-python",
   "name": "python",
   "nbconvert_exporter": "python",
   "pygments_lexer": "ipython3",
   "version": "3.6.3"
  }
 },
 "nbformat": 4,
 "nbformat_minor": 2
}
