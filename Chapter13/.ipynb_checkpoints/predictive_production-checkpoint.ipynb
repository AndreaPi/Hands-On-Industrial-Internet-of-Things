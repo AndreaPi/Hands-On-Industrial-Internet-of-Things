{
 "cells": [
  {
   "cell_type": "code",
   "execution_count": 1,
   "metadata": {},
   "outputs": [
    {
     "name": "stderr",
     "output_type": "stream",
     "text": [
      "/Users/giacomoveneri/anaconda3/lib/python3.6/site-packages/statsmodels/compat/pandas.py:56: FutureWarning: The pandas.core.datetools module is deprecated and will be removed in a future version. Please use the pandas.tseries module instead.\n",
      "  from pandas.core import datetools\n"
     ]
    }
   ],
   "source": [
    "from statsmodels.tsa.arima_model import ARIMA\n",
    "import matplotlib.pyplot as plt\n",
    "import pandas as pd"
   ]
  },
  {
   "cell_type": "markdown",
   "metadata": {},
   "source": [
    "# Step 0 and 1\n",
    "Import data"
   ]
  },
  {
   "cell_type": "code",
   "execution_count": 2,
   "metadata": {},
   "outputs": [
    {
     "name": "stdout",
     "output_type": "stream",
     "text": [
      "<bound method NDFrame.head of     day  crude_flow\n",
      "0     1        79.4\n",
      "1     2        82.1\n",
      "2     3        81.8\n",
      "3     4        74.9\n",
      "4     5        70.0\n",
      "5     6        75.0\n",
      "6     7        72.0\n",
      "7     8        61.0\n",
      "8     9        59.0\n",
      "9    10        63.8\n",
      "10   11        76.3\n",
      "11   12        80.8\n",
      "12   13        78.0\n",
      "13   14        76.1\n",
      "14   15        78.1\n",
      "15   16        88.7\n",
      "16   17        82.3\n",
      "17   18        81.7\n",
      "18   19        82.3\n",
      "19   20        72.0\n",
      "20   21        79.6\n",
      "21   22        81.2\n",
      "22   23        79.1\n",
      "23   24        78.7\n",
      "24   25        78.6\n",
      "25   26        80.1\n",
      "26   27        78.5\n",
      "27   28        79.6\n",
      "28   29        77.5\n",
      "29   30        74.6\n",
      "..  ...         ...\n",
      "31   32        72.1\n",
      "32   33        60.6\n",
      "33   34        63.6\n",
      "34   35        68.8\n",
      "35   36        70.1\n",
      "36   37        75.2\n",
      "37   38        80.4\n",
      "38   39        76.6\n",
      "39   40        76.0\n",
      "40   41        69.3\n",
      "41   42        70.5\n",
      "42   43        78.6\n",
      "43   44        79.4\n",
      "44   45        70.5\n",
      "45   46        76.2\n",
      "46   47        76.1\n",
      "47   48        67.7\n",
      "48   49        67.9\n",
      "49   50        72.0\n",
      "50   51        75.8\n",
      "51   52        70.1\n",
      "52   53        63.3\n",
      "53   54        66.9\n",
      "54   55        64.1\n",
      "55   56        65.3\n",
      "56   57        67.6\n",
      "57   58        77.0\n",
      "58   59        82.4\n",
      "59   60        79.1\n",
      "60   61        70.4\n",
      "\n",
      "[61 rows x 2 columns]>\n"
     ]
    }
   ],
   "source": [
    "# read the dataset\n",
    "df = pd.read_csv('./data/data_refinery.csv')\n",
    "print(df.head)"
   ]
  },
  {
   "cell_type": "markdown",
   "metadata": {},
   "source": [
    "# Step 2\n",
    "Parepare the data set"
   ]
  },
  {
   "cell_type": "code",
   "execution_count": 3,
   "metadata": {
    "collapsed": true
   },
   "outputs": [],
   "source": [
    "#splitting data-set between train and test\n",
    "y=df['crude_flow'].values\n",
    "\n",
    "n=len(y)\n",
    "s = int(len(y) * 0.7)\n",
    "train, test = y[0:s+1], y[s:n]"
   ]
  },
  {
   "cell_type": "markdown",
   "metadata": {},
   "source": [
    "# Step 3\n",
    "building model"
   ]
  },
  {
   "cell_type": "code",
   "execution_count": 5,
   "metadata": {},
   "outputs": [
    {
     "name": "stderr",
     "output_type": "stream",
     "text": [
      "/Users/giacomoveneri/anaconda3/lib/python3.6/site-packages/statsmodels/tsa/kalmanf/kalmanfilter.py:646: FutureWarning: Conversion of the second argument of issubdtype from `float` to `np.floating` is deprecated. In future, it will be treated as `np.float64 == np.dtype(float).type`.\n",
      "  if issubdtype(paramsdtype, float):\n",
      "/Users/giacomoveneri/anaconda3/lib/python3.6/site-packages/statsmodels/tsa/kalmanf/kalmanfilter.py:650: FutureWarning: Conversion of the second argument of issubdtype from `complex` to `np.complexfloating` is deprecated. In future, it will be treated as `np.complex128 == np.dtype(complex).type`.\n",
      "  elif issubdtype(paramsdtype, complex):\n",
      "/Users/giacomoveneri/anaconda3/lib/python3.6/site-packages/statsmodels/tsa/kalmanf/kalmanfilter.py:577: FutureWarning: Conversion of the second argument of issubdtype from `float` to `np.floating` is deprecated. In future, it will be treated as `np.float64 == np.dtype(float).type`.\n",
      "  if issubdtype(paramsdtype, float):\n"
     ]
    }
   ],
   "source": [
    "# Evaluating ARIMA\n",
    "order=order=(3,1,2)\n",
    "model = ARIMA(train, order)\n",
    "model_fit = model.fit(disp=0)\n",
    "\n",
    "# Forecasting\n",
    "prediction=model_fit.forecast(steps=n-s)[0]"
   ]
  },
  {
   "cell_type": "markdown",
   "metadata": {},
   "source": [
    "# Showing the data"
   ]
  },
  {
   "cell_type": "code",
   "execution_count": 6,
   "metadata": {},
   "outputs": [
    {
     "data": {
      "image/png": "[encoded data removed]",
      "text/plain": [
       "<matplotlib.figure.Figure at 0x1c1830be10>"
      ]
     },
     "metadata": {},
     "output_type": "display_data"
    }
   ],
   "source": [
    "# Visualization\n",
    "plt.plot(train,'y', label='train')\n",
    "plt.plot(range(s,n),test,'k', label='test')\n",
    "plt.plot(range(s,n),prediction,'k--', label='predicted')\n",
    "plt.legend()\n",
    "plt.show()"
   ]
  },
  {
   "cell_type": "code",
   "execution_count": null,
   "metadata": {
    "collapsed": true
   },
   "outputs": [],
   "source": []
  }
 ],
 "metadata": {
  "kernelspec": {
   "display_name": "Python 3",
   "language": "python",
   "name": "python3"
  },
  "language_info": {
   "codemirror_mode": {
    "name": "ipython",
    "version": 3
   },
   "file_extension": ".py",
   "mimetype": "text/x-python",
   "name": "python",
   "nbconvert_exporter": "python",
   "pygments_lexer": "ipython3",
   "version": "3.6.3"
  }
 },
 "nbformat": 4,
 "nbformat_minor": 2
}
